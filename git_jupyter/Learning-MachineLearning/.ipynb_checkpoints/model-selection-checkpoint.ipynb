{
 "cells": [
  {
   "cell_type": "markdown",
   "metadata": {},
   "source": [
    "## 1. Model Selection\n",
    "###  1.1 保留交叉验证自己进行测试\n",
    "1. 70% 作为训练集，30%作为测试集\n",
    "\n",
    "###  1.2 k-fold交叉验证(k-cross validation)\n",
    "1. 最常见的是10-折交叉验证\n",
    "2. 计算代价比较高\n",
    "3. 留1验证，当$k=m$\n",
    "\n",
    "## 2. Feature selection\n",
    "+ Forward selection\n",
    "    + 假设有$n$个特征，一共有$2^{n}$个可能的子集 \n",
    "    ```python\n",
    "      start with feature\n",
    "      repeat{\n",
    "          \n",
    "       }\n",
    "    ```\n",
    "+ filter method & Mutual Information or KL divergence\n",
    "$$M(x,y) = KL(P(x,y)\\|p(x)*p(y))$$\n",
    "\n",
    "\n",
    "### "
   ]
  }
 ],
 "metadata": {
  "kernelspec": {
   "display_name": "Python 3",
   "language": "python",
   "name": "python3"
  },
  "language_info": {
   "codemirror_mode": {
    "name": "ipython",
    "version": 3
   },
   "file_extension": ".py",
   "mimetype": "text/x-python",
   "name": "python",
   "nbconvert_exporter": "python",
   "pygments_lexer": "ipython3",
   "version": "3.6.8"
  }
 },
 "nbformat": 4,
 "nbformat_minor": 2
}
