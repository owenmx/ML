{
 "cells": [
  {
   "cell_type": "markdown",
   "metadata": {},
   "source": [
    "# 1.贝叶斯理论\n",
    "在初等概率中，我们可以定义某个事件对另以事件的条件概率，也就是将原先的样本空间限制到当作条件的事件上，做__归一化__，构成一个新的概率空间\n",
    "$$\\mathcal{P}(A|B) = \\frac {\\mathcal{P}(AB)}{\\mathcal{P}(B)}$$"
   ]
  },
  {
   "cell_type": "markdown",
   "metadata": {},
   "source": [
    "## 1.1 边缘概率 <font color = 'red'>存在认知误差<font>\n",
    "假设两个变量相关的概率分布: $P(x,y)$<br>\n",
    "关于其中一个变量的边缘概率分布为给定其他变量的条件概率分布：<br>\n",
    "$$P(x)=\\sum_y P(x,y) = \\sum_y P(x|y)P(y)$$\n",
    "下图表示了X和Y的联合概率分布$P(x,y)$\n",
    "<img src=\"./image/marginaldistribution.png\" style=\"zoom:40%\">\n",
    "展开联合概率分布：<br>\n",
    "$P(X=0,Y=0) = \\frac{4}{22};P(X=0,Y=1) = \\frac{6}{22}$ <br>\n",
    "$P(X=1,Y=0) = \\frac{2}{22};P(X=1,Y=1) = \\frac{10}{22}$<br>\n",
    "展开条件概率：<br>\n",
    "$P(X=0|Y=0) = \\frac{4}{6};P(X=1|Y=0) = \\frac{2}{6}$ <br>\n",
    "$P(X=0|Y=1) = \\frac{6}{16};P(X=1|Y=1) = \\frac{10}{16}$<br>\n",
    "则边缘概率：<br>\n",
    "$P(X=0)=\\sum_y P(X=0,Y) = \\frac {10} {22} = \\sum_y P(X=0 |Y = 0) * P(Y = y) = \\frac {10} {22} $<br>\n",
    "$P(X=1)=\\sum_y P(X=1,Y) = \\frac {12} {22} $<br>"
   ]
  },
  {
   "cell_type": "markdown",
   "metadata": {},
   "source": [
    "## 1.2 条件期望\n",
    "设 $X$和$Y$是离散随机变量，则$X$在给定事件$Y=y$条件是的条件期望是$x$的在$Y$的值域的函数\n",
    "$$E(X|Y=y)=\\sum_{x \\in \\mathcal{X}} {x} P(X=x|Y=y)=\\sum_{x \\in \\mathcal{X}} {x} \\frac {P(X=x,Y=y)} {P(Y=y)}$$"
   ]
  },
  {
   "cell_type": "markdown",
   "metadata": {},
   "source": [
    "## 1.3 全期望公式\n",
    "表示的含义是假设有$n$个班级，现在需要统计所有班级的平均分，有两种方法：\n",
    "1. 直接统计所有成员的分数，然后求均值\n",
    "2. 每个班级先统计各自班级的数据，求均值，然后将全\n",
    "$$E_{y}{E_{x}[X|Y=y]}$$\n",
    "$$=\\int _{y} \\mathcal{P(y)} *{E_{x}[X|Y=y]} dy$$\n",
    "$$=\\int _{y} \\mathcal{P(y)} *[\\int _x x * \\mathcal{P(X=x|Y=y)}dx] dy$$\n",
    "$$=\\int _{y} [\\int _x x * \\mathcal{P(Y=y|X=x)} \\mathcal{P(x)}dx] dy$$\n"
   ]
  },
  {
   "cell_type": "markdown",
   "metadata": {},
   "source": [
    "# 注\n",
    "1. $pdf\\;(probability\\;density\\;function) $概率密度函数"
   ]
  },
  {
   "cell_type": "code",
   "execution_count": null,
   "metadata": {
    "collapsed": true
   },
   "outputs": [],
   "source": []
  }
 ],
 "metadata": {
  "kernelspec": {
   "display_name": "Python 3",
   "language": "python",
   "name": "python3"
  },
  "language_info": {
   "codemirror_mode": {
    "name": "ipython",
    "version": 3
   },
   "file_extension": ".py",
   "mimetype": "text/x-python",
   "name": "python",
   "nbconvert_exporter": "python",
   "pygments_lexer": "ipython3",
   "version": "3.6.8"
  }
 },
 "nbformat": 4,
 "nbformat_minor": 2
}
