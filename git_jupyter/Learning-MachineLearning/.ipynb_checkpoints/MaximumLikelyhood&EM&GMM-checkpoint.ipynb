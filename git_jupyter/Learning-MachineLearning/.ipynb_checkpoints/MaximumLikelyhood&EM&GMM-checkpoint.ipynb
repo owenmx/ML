{
 "cells": [
  {
   "cell_type": "markdown",
   "metadata": {},
   "source": [
    "## 1. MLH 最大似然估计\n",
    "1. 基本的最大似然估计已经十分清晰，这里不再赘述，只提一些概念性的内容。\n",
    "2. 基础的最大似然估计主要解决的是模型已定，概率未知的问题。举个简单的例子，比如我要估计一个学校的男生身高的分布，一般情况这些身高是服从正态分布的，也就是说需要估计的参数包括$\\sigma$和$\\mu$。\n",
    "3. $计算流程：$\n",
    "    1. $假设目标概率分布为：$ $$P(x|\\theta)$$\n",
    "    2. $抽样出一组数据$ $X$,$利用上面的概率分布得到抽出这组数据的概率$\n",
    "    3. $对\\theta求导（或者其他任意的求最大化方法）最大化上面计算得到概率值，得到模型的参数$"
   ]
  },
  {
   "cell_type": "markdown",
   "metadata": {},
   "source": [
    "## 2. EM \n",
    "1. $算法框架$\n",
    "    1. $E-Step: 在\\theta确定的前提下，建立L(\\theta)的下界$\n",
    "    2. $M-Step: 更新\\theta，最大化这个下界$\n",
    "2. $这里对E步进行简单的数学推导，来自李宏毅教授的PPT和自己的一些理解$\n",
    "$对于一个包含隐变量的概率模型，目标是极大化观测数据（不完全数据）Y关于参数\\theta的对数似然函数，也就是极大化：$\n",
    "$$L(\\theta) = log \\; P(Y|\\theta) = log \\;\\sum_{Z}P(Y,Z|\\theta)$$\n",
    "$假设Z的概率分布是Q(Z|\\theta)，那么上式可以等价转化为：$\n",
    "$$= log \\; \\sum_{Z} Q(Z|\\theta) \\frac{P(Y,Z|\\theta)} {Q(Z|\\theta)} (条件概率计算公式)$$\n",
    "$$= log \\; \\mathbb{E}_{Z}{[\\frac{P(Y,Z|\\theta)} {Q(Z|\\theta)}]} (期望计算公式)$$\n",
    "$$\\geq \\mathbb{E}_{Z} [log \\; {\\frac{P(Y,Z|\\theta)} {Q(Z|\\theta)}}] (琴生不等式)$$\n",
    "在上面的琴生不等式中：\n",
    "$$f(\\; \\mathbb{E}{[X]}) \\geq \\mathbb{E} [f(x)] (等号成立的条件，x_1=x_2 = ... =constant)$$ <br>\n",
    "$$log \\; \\mathbb{E}_{Z}{[\\frac{P(Y,Z|\\theta)} {Q(Z|\\theta)}]} \\geq \\mathbb{E}_{Z} [log \\; {\\frac{P(Y,Z|\\theta)} {Q(Z|\\theta)}}] (琴生不等式)$$\n",
    "$隐变量的分布Z存在很多中可能，如何选择Z成为了一个问题.$ \n",
    "$而结合上面的琴生不等式，我们的目的当然是希望调整Q(Z)使得Lower Bound越接近L(\\theta)越好，而等号成立的条件是当\\frac{P(Y,Z|\\theta)} {Q(Z|\\theta)}=Constant$\n",
    "$由于Q(Z|\\theta)是关于Z的分布,$因此：\n",
    "$$\\sum_z Q(z) = 1$$\n",
    "推出：\n",
    "$$\\sum_z P(Y_i,z) = C$$\n",
    "得到：\n",
    "$$Q(Z_i) = \\frac {P(Y_i,Z_i)} {\\sum_z P(Y_i,z)}$$\n",
    "$$Q(Z_i) = \\frac {P(Y_i,Z_i)} {P(Y_i)}$$\n",
    "$$Q(Z_i) =  {P(Z_i|Y_i)}_{\\theta} $$\n"
   ]
  },
  {
   "cell_type": "markdown",
   "metadata": {},
   "source": [
    "## 3. GMM 高斯混合模型 - [GMM](https://www.youtube.com/watch?v=qMTuMa86NzU)\n"
   ]
  },
  {
   "cell_type": "markdown",
   "metadata": {
    "collapsed": true
   },
   "source": [
    "## 4. 大数定理 (the law of large number)\n",
    "1. $大数定理指就是：抽样数据的样本平均值将趋近与总体平均值。样本平均值：\\overline{X}_{N}；总体均值（期望）：E(X)$\n",
    "2. $赌徒谬论$"
   ]
  }
 ],
 "metadata": {
  "kernelspec": {
   "display_name": "Python 3",
   "language": "python",
   "name": "python3"
  },
  "language_info": {
   "codemirror_mode": {
    "name": "ipython",
    "version": 3
   },
   "file_extension": ".py",
   "mimetype": "text/x-python",
   "name": "python",
   "nbconvert_exporter": "python",
   "pygments_lexer": "ipython3",
   "version": "3.6.8"
  }
 },
 "nbformat": 4,
 "nbformat_minor": 2
}
