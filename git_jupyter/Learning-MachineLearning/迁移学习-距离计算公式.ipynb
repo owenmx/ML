{
 "cells": [
  {
   "cell_type": "markdown",
   "metadata": {},
   "source": [
    "## $Maximum\\;Mean\\;Discrepancy$\n",
    "1. $公式$\n",
    "$$MMD(X,Y)=  \\|\\frac {1} {n} \\sum_{i=1}^{n} \\phi(x_i) - \\frac {1} {m} \\sum_{j=1}^{m} \\phi(y_i) \\|_H^2$$\n",
    "其中：$H$表示的含义MMD距离是将数据映射到再生希尔伯特空间（RKHS）中进行度量。MMD的核心在于如何选择一个合适和$\\phi$作为一个合适的映射函数，这里用到的技巧和核函数用到的kernel trick时相同的，也就时在不知道映射函数$\\phi$二点前提下进行MMD的计算。<br>\n",
    "首先将MMD展开：\n",
    "$$MMD(X,Y) = \\| \\frac{1}{n^2} \\sum_{i = 1}^{n}\\sum_{j = 1}^{n}\\phi(x_i)\\phi(x_j) - \\frac{1} {mn} \\sum_{i = 1}^{n}\\sum_{j = 1}^{m}\\phi(x_i)\\phi(y_j) + \\frac{1}{m^2} \\sum_{i = 1}^{m}\\sum_{j = 1}^{m}\\phi(y_i)\\phi(y_j)\\|$$\n",
    "\n",
    "核矩阵：\n",
    "$$K = \\begin{bmatrix}\n",
    "K_{ss} & K_{st}\\\\ \n",
    "K_{tt} & K_{ts}\n",
    "\\end{bmatrix}$$"
   ]
  },
  {
   "cell_type": "code",
   "execution_count": 2,
   "metadata": {
    "collapsed": true
   },
   "outputs": [],
   "source": [
    "import torch"
   ]
  },
  {
   "cell_type": "code",
   "execution_count": null,
   "metadata": {
    "collapsed": true
   },
   "outputs": [],
   "source": [
    "def guassian_kernel(source,target,kernel_mul=2.0,kernel_num=5,fix_sigma=None):\n",
    "    \"\"\"\n",
    "    将源域数据和目标数据转化为核矩阵\n",
    "    \n",
    "    source: 源数据 n * len(x)\n",
    "    target: 目标数据 m * len(y)\n",
    "    kernel_num: 取不同高斯和的数量\n",
    "    fix_sigma：不同高斯核的sigma值\n",
    "    \"\"\""
   ]
  }
 ],
 "metadata": {
  "kernelspec": {
   "display_name": "Python 3",
   "language": "python",
   "name": "python3"
  },
  "language_info": {
   "codemirror_mode": {
    "name": "ipython",
    "version": 3
   },
   "file_extension": ".py",
   "mimetype": "text/x-python",
   "name": "python",
   "nbconvert_exporter": "python",
   "pygments_lexer": "ipython3",
   "version": "3.6.8"
  }
 },
 "nbformat": 4,
 "nbformat_minor": 2
}
