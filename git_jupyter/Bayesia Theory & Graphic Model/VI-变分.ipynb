{
 "cells": [
  {
   "cell_type": "markdown",
   "metadata": {},
   "source": [
    "## 基本思路"
   ]
  },
  {
   "cell_type": "markdown",
   "metadata": {},
   "source": [
    "$在贝叶斯统计中，所有对于未知统计量的推断都可以看成是度后验概率的计算。$"
   ]
  },
  {
   "cell_type": "markdown",
   "metadata": {},
   "source": [
    "## 问题定义"
   ]
  },
  {
   "cell_type": "markdown",
   "metadata": {},
   "source": [
    "$假设一组观测变量用：\\mathcal{X} = {x_1,x_2,...,x_n}表示，而隐变量用：\\mathcal{Z} = {z_1,z_2,...,z_m}表示，当前的目标是利用观测的\\mathcal{X}$$来推断出\\mathcal{Z}的分布P(z|x)。而变分的方法就是将这一问题转化为优化问题，通过找出一组近似概率分布\\mathcal{Q(z)}来近似代替P(z|x)$"
   ]
  },
  {
   "cell_type": "code",
   "execution_count": null,
   "metadata": {},
   "outputs": [],
   "source": []
  }
 ],
 "metadata": {
  "kernelspec": {
   "display_name": "Python 3",
   "language": "python",
   "name": "python3"
  },
  "language_info": {
   "codemirror_mode": {
    "name": "ipython",
    "version": 3
   },
   "file_extension": ".py",
   "mimetype": "text/x-python",
   "name": "python",
   "nbconvert_exporter": "python",
   "pygments_lexer": "ipython3",
   "version": "3.6.9"
  }
 },
 "nbformat": 4,
 "nbformat_minor": 2
}
