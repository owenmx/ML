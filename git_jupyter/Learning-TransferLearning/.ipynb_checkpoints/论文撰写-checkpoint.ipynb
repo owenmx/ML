{
 "cells": [
  {
   "cell_type": "markdown",
   "metadata": {},
   "source": [
    "## 论文撰写 👍\n",
    "1. $we\\;close\\;the\\;discussion\\;of\\;SVM\\;by\\;sketching\\;the\\;derivation\\;of\\; SMO$\n",
    "2. $Our\\;analysis\\;also\\;sheds\\;an\\;intersting\\;light\\;on\\;how\\;random\\;forests\\;can\\;nicely\\;adapt\\;to\\;sparsity.$\n",
    "3. the result of which can benefit not only the data collectors but also their customers, those benefits include market trend analysis, better services, and product recommendation\n",
    "4. Existing methods have not addressed the problem of separating such data into latent domains for the purpose of domain adaptation.\n",
    "5. Rather than force a single transform to prtform both mappings, a richer model with multiple seperate transforms in desirable.\n",
    "6. While the unlabeled samples reflect the target distribution, the labeled samples may be biased.\n",
    "\n",
    "### Federated \n",
    "1. For example, we might collect data from many patient with \"small\" data and domain adaptation is used to generalized to new patients. Therefore, extracting these relationships is of practical importance.\n",
    "2. Meanwhile, the relationship between domains can also be learned, which is of interest in addition to classification performance.\n",
    "3. The encoder E maps data points x to feature vectors E(x). These features are then used by local classifier to make predications for supervised task. They are also  used  by the domain adapter, encouraging extracted features E(x) to be similar across __neary domains.__"
   ]
  },
  {
   "cell_type": "markdown",
   "metadata": {
    "collapsed": true
   },
   "source": [
    "## 论文结构\n",
    "1. Background and Gap\n",
    "2. What we did and innovation\n",
    "3. Contributions\n",
    "4. Method\n",
    "5. Results\n",
    "\n",
    "## 多步迁移\n",
    "用GAN或者VAE，从源域和目标域sample部分数据，然后干出一系列中间域\n",
    "\n",
    "## 迁移是对称的吗？\n",
    "如果A是有label的，我从A到B $\\rightarrow$  B是有label的，我从B到A<br>\n",
    "如果A的信息更加丰富，B的更少和B的信息更丰富，A的更少。或者A的纹理特征更丰富，B的形状特征更加丰富，如何理解这些场景。\n",
    "\n",
    "## 多源域\n",
    "[Paper](https://papers.nips.cc/paper/7913-extracting-relationships-by-multi-domain-matching.pdf)\n",
    "1. 每个源域都应该被加权 $weight_{i},i=1,2,3,4,...$"
   ]
  }
 ],
 "metadata": {
  "kernelspec": {
   "display_name": "Python 3",
   "language": "python",
   "name": "python3"
  },
  "language_info": {
   "codemirror_mode": {
    "name": "ipython",
    "version": 3
   },
   "file_extension": ".py",
   "mimetype": "text/x-python",
   "name": "python",
   "nbconvert_exporter": "python",
   "pygments_lexer": "ipython3",
   "version": "3.6.8"
  }
 },
 "nbformat": 4,
 "nbformat_minor": 2
}
