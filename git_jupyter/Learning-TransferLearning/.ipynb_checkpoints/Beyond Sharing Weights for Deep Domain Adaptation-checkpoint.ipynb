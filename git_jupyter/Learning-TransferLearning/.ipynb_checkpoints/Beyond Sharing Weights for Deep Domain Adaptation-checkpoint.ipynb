{
 "cells": [
  {
   "cell_type": "markdown",
   "metadata": {},
   "source": [
    "## source domain 和 target domain并不直接共享(Related but not shared)\n",
    "1. Related but not shared\n",
    "<img src=\"./image/beyondweightshare.png\" style=\"zoom:70%\">"
   ]
  }
 ],
 "metadata": {
  "kernelspec": {
   "display_name": "Python 3",
   "language": "python",
   "name": "python3"
  },
  "language_info": {
   "codemirror_mode": {
    "name": "ipython",
    "version": 3
   },
   "file_extension": ".py",
   "mimetype": "text/x-python",
   "name": "python",
   "nbconvert_exporter": "python",
   "pygments_lexer": "ipython3",
   "version": "3.6.8"
  }
 },
 "nbformat": 4,
 "nbformat_minor": 2
}
