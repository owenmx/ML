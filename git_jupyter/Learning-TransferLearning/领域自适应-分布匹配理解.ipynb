{
 "cells": [
  {
   "cell_type": "markdown",
   "metadata": {},
   "source": [
    "## 根据数据分布\n",
    "<img src=\"./image/distribution.png\" style=\"zoom:50%\">\n",
    "1. 边缘概率 $P(X)$ 可以观察样本整体的分布（整体）。\n",
    "2. 条件概率 $P(Y|X)$ 可以观察在某一类(图上类似的聚类结果)下面的数据分布（局部）。\n",
    "\n",
    "## Unrelated Task $\\rightarrow$ 远距离迁移"
   ]
  }
 ],
 "metadata": {
  "kernelspec": {
   "display_name": "Python 3",
   "language": "python",
   "name": "python3"
  },
  "language_info": {
   "codemirror_mode": {
    "name": "ipython",
    "version": 3
   },
   "file_extension": ".py",
   "mimetype": "text/x-python",
   "name": "python",
   "nbconvert_exporter": "python",
   "pygments_lexer": "ipython3",
   "version": "3.6.8"
  }
 },
 "nbformat": 4,
 "nbformat_minor": 2
}
