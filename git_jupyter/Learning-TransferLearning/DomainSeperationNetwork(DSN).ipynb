{
 "cells": [
  {
   "cell_type": "markdown",
   "metadata": {},
   "source": [
    "##  Domain Seperation Network\n",
    "### DSN网络架构\n",
    "<img src=\"./image/dsn.png\" style=\"zoom:70%\">\n",
    "\n",
    "### 组成成分分析(从上到下)\n",
    "1. $Private\\;Target\\;Encoder\\;目标域编码器$ $E_{p}^{t}(\\mathcal{X}^{t})$\n",
    "    + $ 从目标域中抽取$__私有__$特征信息，得到的特征用$ $\\mathcal{h}_{p}^{t}表示$，$这里的私有可以理解为某个领域所独有的信息。$\n",
    "2. $Shared\\;Encoder$ $共享编码器$ $E_{c}{\\mathcal{X}}$\n",
    "    + $源域的数据和目标域的数据都会经过这个网络，虚线表示的含义是参数共享，实际上就是两批数据都经过这个抽取器，同步更新网络。$\n",
    "3. $Private\\;Source\\;Encoder\\;源域编码器$ $E_{p}^{t}(\\mathcal{X}^{t})$\n",
    "    + $ 从源域中抽取$__私有__$特征信息，得到的特征用$ $\\mathcal{h}_{p}^{s}表示。$\n",
    "\n",
    "\n",
    "### 注\n",
    "1. 将数据分为了 low level的信息和 high level 的信息"
   ]
  }
 ],
 "metadata": {
  "kernelspec": {
   "display_name": "Python 3",
   "language": "python",
   "name": "python3"
  },
  "language_info": {
   "codemirror_mode": {
    "name": "ipython",
    "version": 3
   },
   "file_extension": ".py",
   "mimetype": "text/x-python",
   "name": "python",
   "nbconvert_exporter": "python",
   "pygments_lexer": "ipython3",
   "version": "3.6.8"
  }
 },
 "nbformat": 4,
 "nbformat_minor": 2
}
