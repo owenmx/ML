{
 "cells": [
  {
   "cell_type": "markdown",
   "metadata": {},
   "source": [
    "## batchsize iteration 和 epoch 的关系\n",
    "+ batchsize：批大小。在深度学习中，一般采用SGD训练，即每次训练在训练集中取batchsize个样本训练\n",
    "+ iteration：1个iteration等于使用batchsize个样本训练一次\n",
    "+ epoch：1个epoch等于使用训练集中的全部样本训练一次\n",
    "+ 举个例子，训练集有1000个样本，batchsize=10，那么：训练完整个样本集需要100次iteration，1次epoch。"
   ]
  },
  {
   "cell_type": "markdown",
   "metadata": {},
   "source": [
    "## 一个LR的模型"
   ]
  },
  {
   "cell_type": "markdown",
   "metadata": {
    "collapsed": true
   },
   "source": [
    "```python\n",
    "import torch\n",
    "import torch.nn as nn\n",
    "import numpy as np\n",
    "torch.__version__\n",
    "data=np.loadtxt(\"data/german.data-numeric\")\n",
    "\n",
    "n,l=data.shape\n",
    "for j in range(l-1):\n",
    "    meanVal=np.mean(data[:,j])\n",
    "    stdVal=np.std(data[:,j])\n",
    "    data[:,j]=(data[:,j]-meanVal)/stdVal\n",
    "np.random.shuffle(data)\n",
    "\n",
    "train_data=data[:900,:l-1]\n",
    "train_lab=data[:900,l-1]-1\n",
    "test_data=data[900:,:l-1]\n",
    "test_lab=data[900:,l-1]-1\n",
    "class LR(nn.Module):\n",
    "    def __init__(self):\n",
    "        super(LR,self).__init__()\n",
    "        self.fc=nn.Linear(24,2) # 由于24个维度已经固定了，所以这里写24\n",
    "    def forward(self,x):\n",
    "        out=self.fc(x)\n",
    "        out=torch.sigmoid(out)\n",
    "        return out\n",
    "\n",
    "def test(pred,lab):\n",
    "    t=pred.max(-1)[1]==lab\n",
    "    return torch.mean(t.float())\n",
    "\n",
    "\n",
    "net=LR() \n",
    "criterion=nn.CrossEntropyLoss() # 使用CrossEntropyLoss损失\n",
    "optm=torch.optim.Adam(net.parameters()) # Adam优化\n",
    "epochs=1000 # 训练1000次\n",
    "\n",
    "\n",
    "x=torch.from_numpy(train_data).float()\n",
    "y=torch.from_numpy(train_lab).long()\n",
    "y_hat=net(x)\n",
    "\n",
    "\n",
    "\n",
    "for i in range(epochs):\n",
    "    # 指定模型为训练模式，计算梯度\n",
    "    net.train()\n",
    "    # 输入值都需要转化成torch的Tensor\n",
    "    x=torch.from_numpy(train_data).float()\n",
    "    y=torch.from_numpy(train_lab).long()\n",
    "    y_hat=net(x)\n",
    "    loss=criterion(y_hat,y) # 计算损失\n",
    "    optm.zero_grad() # 前一步的损失清零\n",
    "    loss.backward() # 反向传播\n",
    "    optm.step() # 优化\n",
    "    if (i+1)%100 ==0 : # 这里我们每100次输出相关的信息\n",
    "        # 指定模型为计算模式\n",
    "        net.eval()\n",
    "        test_in=torch.from_numpy(test_data).float()\n",
    "        test_l=torch.from_numpy(test_lab).long()\n",
    "        test_out=net(test_in)\n",
    "        # 使用我们的测试函数计算准确率\n",
    "        accu=test(test_out,test_l)\n",
    "        print(\"Epoch:{},Loss:{:.4f},Accuracy：{:.2f}\".format(i+1,loss.item(),accu))\n",
    "```        "
   ]
  },
  {
   "cell_type": "markdown",
   "metadata": {
    "collapsed": true
   },
   "source": [
    "## tranform.ToTensor()\n",
    "+ DataLoader只会接收Tensor数据,因此需要tranform"
   ]
  },
  {
   "cell_type": "markdown",
   "metadata": {
    "collapsed": true
   },
   "source": [
    "## torch show图片\n",
    "+ 灰色图片\n",
    "```python\n",
    "plt.imshow(data[0][0].detach(),cmap=\"gray\")\n",
    "plt.show()\n",
    "print()\n",
    "```\n",
    "\n",
    "+ 彩色图片\n",
    "```python\n",
    "img = image[0] # plt.imshow()只能接受3-D Tensor，所以也要用image[0]消去batch那一维\n",
    "img = img.numpy() # FloatTensor转为ndarray\n",
    "img = np.transpose(img, (1,2,0)) # 把channel那一维放到最后\n",
    "plt.imshow(img)\n",
    "plt.show()\n",
    "```\n",
    "\n",
    "+ 批量显示图片\n",
    "```python\n",
    "def imshow(imgs):\n",
    "    imgs = torchvision.utils.make_grid(imgs)\n",
    "    npimgs = imgs.detach().numpy()\n",
    "    plt.figure(figsize=(8,8))\n",
    "    plt.imshow(np.transpose(npimgs, (1,2,0)), cmap='Greys_r')\n",
    "    plt.xticks([])\n",
    "    plt.yticks([])\n",
    "    plt.show()\n",
    "```\n",
    "+ 更多彩色图片\n",
    "```python\n",
    "def imshow(inp, title=None):\n",
    "    \"\"\"Imshow for Tensor.\"\"\"\n",
    "    inp = inp.numpy().transpose((1, 2, 0))\n",
    "    mean = np.array([0.485, 0.456, 0.406])\n",
    "    std = np.array([0.229, 0.224, 0.225])\n",
    "    inp = std * inp + mean\n",
    "    inp = np.clip(inp, 0, 1)\n",
    "    plt.imshow(inp)\n",
    "    if title is not None:\n",
    "        plt.title(title)\n",
    "    plt.pause(0.001)  # pause a bit so that plots are updated\n",
    "```"
   ]
  },
  {
   "cell_type": "markdown",
   "metadata": {},
   "source": [
    "## 创建自己的数据集dataset"
   ]
  },
  {
   "cell_type": "markdown",
   "metadata": {
    "collapsed": true
   },
   "source": [
    "```python\n",
    "class MyData(data.Dataset):\n",
    "    def __init__(self):\n",
    "        data = np.loadtxt('data/german.data-numeric')\n",
    "        self.len = data.shape[0]\n",
    "        \n",
    "        self.x_data = torch.from_numpy(data[:,:24]).float()\n",
    "        self.y_data =torch.from_numpy(data[:,24]-1).long()\n",
    "        \n",
    "        pass\n",
    "    \n",
    "    def __getitem__(self,index):\n",
    "        return self.x_data[index],self.y_data[index]\n",
    "        pass\n",
    "    \n",
    "    def __len__(self):\n",
    "        return self.len\n",
    "        pass\n",
    "```"
   ]
  },
  {
   "cell_type": "markdown",
   "metadata": {},
   "source": [
    "## 模型训练的Train方法和Test方法"
   ]
  },
  {
   "cell_type": "markdown",
   "metadata": {
    "collapsed": true
   },
   "source": [
    "```python\n",
    "def test():\n",
    "    net.eval()\n",
    "    for x,y in test_loader:\n",
    "        output = net(x) # batch * class 的tensor\n",
    "        _, prediction = output.max(1)\n",
    "        corretct += prediction.eq(y).sum().item()\n",
    "    accuracy = corretct / test_loader.size(0)\n",
    "    print(\"Accuracy = \", accuracy)\n",
    "def train(epoch):\n",
    "    net.train()\n",
    "    for e in range(epoch):\n",
    "        for step,(x,y) in enumerate(train_loader):\n",
    "            \"\"\"\n",
    "            1 清除梯度\n",
    "            \"\"\"\n",
    "            optim.zero_grad() \n",
    "            \"\"\"\n",
    "            2 前向传播\n",
    "            \"\"\"\n",
    "            y_hat = net(x)\n",
    "            \"\"\"\n",
    "            3 - 计算loss\n",
    "            \"\"\"\n",
    "            loss = criterion(y,y_hat)\n",
    "            \"\"\"\n",
    "            4 - 反向传播\n",
    "            \"\"\"\n",
    "            loss.backward()\n",
    "            \"\"\"\n",
    "            5 - 更新参数\n",
    "            \"\"\"\n",
    "            optim.step()\n",
    "            \n",
    "            if step % 100 == 0:\n",
    "                test()\n",
    "```"
   ]
  },
  {
   "cell_type": "markdown",
   "metadata": {},
   "source": [
    "```python\n",
    "## Colab 下载文件\n",
    "import requests\n",
    "image_url = \"https://download.pytorch.org/tutorial/hymenoptera_data.zip\"\n",
    "r = requests.get(image_url) \n",
    "with open(\"hymenoptera_data.zip\",'wb') as f:\n",
    "    f.write(r.content)\n",
    "    \n",
    "import os\n",
    "os.system(\"unzip hymenoptera_data.zip\")\n",
    "```"
   ]
  },
  {
   "cell_type": "markdown",
   "metadata": {},
   "source": [
    "## 获取参数\n",
    "```python\n",
    "for name,i in rnn.named_parameters():\n",
    "    print(name,i.size())\n",
    "```"
   ]
  }
 ],
 "metadata": {
  "kernelspec": {
   "display_name": "Python 3",
   "language": "python",
   "name": "python3"
  },
  "language_info": {
   "codemirror_mode": {
    "name": "ipython",
    "version": 3
   },
   "file_extension": ".py",
   "mimetype": "text/x-python",
   "name": "python",
   "nbconvert_exporter": "python",
   "pygments_lexer": "ipython3",
   "version": "3.6.8"
  }
 },
 "nbformat": 4,
 "nbformat_minor": 2
}
