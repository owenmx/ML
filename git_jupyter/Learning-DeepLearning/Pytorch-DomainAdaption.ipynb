{
 "cells": [
  {
   "cell_type": "markdown",
   "metadata": {
    "collapsed": true
   },
   "source": [
    "## Domain Adaptation by Adversarial learning\n",
    "1. $\\lambda$ in training means  how much we want to fool domain classifier.\n",
    "$$\\lambda_{p} = \\frac {2} {1 + exp(-\\lambda * p)}, p = \\frac {step}{max\\_step},\\lambda=10 $$\n",
    "2. 现阶段领域自适应的方法主要包括两种：\n",
    "    + feature matching (特征匹配)\n",
    "    + instance reweighting (样本权重调整)\n",
    "        + learning domain invariant feature representation, by generating features/samples for target domains\n",
    "        + transforming samples between domains through generative models\n",
    "3. 新领域的研究 <font color='red'>开放集问题</font>\n",
    "    + domain gap\n",
    "    + category gap\n",
    "4. 对于应用型的文章，propose的问题的一定要好，切中要害，理论上或者应用上。\n",
    "    + 不要怀疑自己，提出的观点可能会有问题，关键是怎么有的放矢，模糊问题，将注意力转移。\n",
    "    + 对于得不结果的类别可分类为\"Unknow\"\n",
    "    + 提出问题之后一定要明确有哪些<font color='red' size=10>challenge</font>\n",
    "5. Universal Domain Adaption\n",
    "    + Challenge\n",
    "        + target域的知识完全不知，因此无法决定匹配哪一部分的数据，如果全部匹配必然出现问题，例如负迁移。\n",
    "        + 分类器判别不了并标为'Unknown'的标准是什么,关键是confidence thresholding\n",
    "    + 定义commonness,类别\n",
    "6. 发现新出现的几个开放集问题对于label预测出的结果都进行了很好的利用，而不是简单的求出argmax。\n",
    "7. Japan的一个研究员 提出了一个Task specific classifier\n",
    "    + $F_{1}$和$F_{2}$两个分类器怎么train\n",
    "    + 模型可以保持收敛吗？ 构建两个类别预测模型，得到对应的概率值，然后最大化。Solved，在最大化两者差距的同时需要最小化classification loss。\n",
    "    + url https://arxiv.org/pdf/1712.02560.pdf\n",
    "    "
   ]
  }
 ],
 "metadata": {
  "kernelspec": {
   "display_name": "Python 3",
   "language": "python",
   "name": "python3"
  },
  "language_info": {
   "codemirror_mode": {
    "name": "ipython",
    "version": 3
   },
   "file_extension": ".py",
   "mimetype": "text/x-python",
   "name": "python",
   "nbconvert_exporter": "python",
   "pygments_lexer": "ipython3",
   "version": "3.6.8"
  }
 },
 "nbformat": 4,
 "nbformat_minor": 2
}
