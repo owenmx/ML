{
 "cells": [
  {
   "cell_type": "markdown",
   "metadata": {},
   "source": [
    "## 不明白的点\n",
    "+ 为什么采用的是全连接，而不是卷积和反卷积\n",
    "+ 为什么Relu和Sigmod函数交叉使用\n",
    "+ Discriminator最后一层的输出的维度为什么是1\n",
    "+ 损失函数为什么是binary_cross_entropy，其他的损失函数行不行\n",
    "+ GAN里面的博弈思想需要更详细的理解"
   ]
  },
  {
   "cell_type": "code",
   "execution_count": 24,
   "metadata": {
    "collapsed": true
   },
   "outputs": [],
   "source": [
    "import torch\n",
    "import torch.utils.data as data\n",
    "import torch.nn as nn\n",
    "import torch.nn.functional as F\n",
    "import numpy as np\n",
    "from torchvision import datasets, transforms\n",
    "import matplotlib.pyplot as plt\n",
    "\n",
    "\"\"\"\n",
    "输入一组噪声，利用反卷积生成一组tensor数据\n",
    "\n",
    "\"\"\"\n",
    "device = 'cuda' if torch.cuda.is_available() else 'cpu'"
   ]
  },
  {
   "cell_type": "code",
   "execution_count": 33,
   "metadata": {
    "collapsed": true
   },
   "outputs": [],
   "source": [
    "# class Generator(nn.Module):\n",
    "#     def __init__(self):\n",
    "#         super(Generator, self).__init__()\n",
    "\n",
    "#         self.model = nn.Sequential(\n",
    "#             nn.Linear(Z_dim, H_dim),\n",
    "#             nn.ReLU(),\n",
    "#             nn.Linear(H_dim,X_dim),\n",
    "#             nn.Sigmoid()\n",
    "#         )\n",
    "\n",
    "#     def forward(self, input):\n",
    "#         return self.model(input)\n",
    "    \n",
    "# class Discriminator(nn.Module):\n",
    "#     def __init__(self):\n",
    "#         super(Discriminator,self).__init__()\n",
    "        \n",
    "#         self.model = nn.Sequential(\n",
    "#             nn.Linear(X_dim,H_dim),\n",
    "#             nn.ReLU(),\n",
    "#             nn.Linear(H_dim,1),\n",
    "#             nn.Sigmoid()\n",
    "#         )\n",
    "    \n",
    "#     def forward(self,input):\n",
    "#         return self.model(input)\n",
    "\n",
    "class Generator(nn.Module):\n",
    "    def __init__(self):\n",
    "        super(Generator,self).__init__()\n",
    "        self.layer = nn.Sequential(\n",
    "            nn.Linear(100,128),\n",
    "            nn.ReLU(),\n",
    "            nn.Linear(128,28*28),\n",
    "            nn.Sigmoid() # 挤压到32*32的图像\n",
    "        )\n",
    "    \n",
    "    def forward(self,x):\n",
    "        insize = x.size(0)\n",
    "        output = self.layer(x)\n",
    "        output = output.view(insize,28,28)\n",
    "        return output\n",
    "\n",
    "class Discriminator(nn.Module):\n",
    "    def __init__(self):\n",
    "        super(Discriminator,self).__init__()\n",
    "        self.layer1 = nn.Sequential(\n",
    "            nn.Conv2d(3,6,5), # 28\n",
    "            nn.ReLU(),\n",
    "            nn.MaxPool2d(2,2),# 14\n",
    "            nn.Conv2d(6,16,5),# 10\n",
    "            nn.ReLU(),\n",
    "            nn.MaxPool2d(2,2) # 5\n",
    "        )\n",
    "        self.layer2 = nn.Sequential(\n",
    "            nn.Linear(16*5*5,120),\n",
    "            nn.ReLU(),\n",
    "            nn.Linear(120,1),\n",
    "            nn.Sigmoid()\n",
    "        )\n",
    "    \n",
    "    def forward(self,x):\n",
    "        insize = x.size(0)\n",
    "        output = self.layer1(x)\n",
    "        output = output.view(insize,-1)\n",
    "        output = self.layer2(output)\n",
    "        return output"
   ]
  },
  {
   "cell_type": "code",
   "execution_count": 26,
   "metadata": {
    "collapsed": true
   },
   "outputs": [],
   "source": [
    "train_loader = data.DataLoader(\n",
    "    dataset=datasets.MNIST(root='./data',download=False,train=True,transform=transforms.ToTensor()),\n",
    "    batch_size = 64,\n",
    "    shuffle=True\n",
    ")\n",
    "cifar_data = datasets.CIFAR10(root='./data',train=True,download=True,transform=transforms.ToTensor())\n",
    "train_dataloader = data.DataLoader(dataset=cifar_data,shuffle=True,batch_size=128)"
   ]
  },
  {
   "cell_type": "code",
   "execution_count": 36,
   "metadata": {
    "collapsed": true
   },
   "outputs": [],
   "source": [
    "gen = Generator()\n",
    "dis = Discriminator()\n",
    "\n",
    "gen = gen.to(device)\n",
    "dis = dis.to(device)\n",
    "\n",
    "optim_gen = torch.optim.Adam(gen.parameters())\n",
    "optim_dis = torch.optim.Adam(dis.parameters())"
   ]
  },
  {
   "cell_type": "code",
   "execution_count": 39,
   "metadata": {},
   "outputs": [
    {
     "name": "stdout",
     "output_type": "stream",
     "text": [
      "Epoch:1,   G_loss:0.6579353213310242,    D_loss:1.3846793174743652\n",
      "Epoch:1,   G_loss:0.6513187289237976,    D_loss:1.3857946991920471\n",
      "Epoch:1,   G_loss:0.6476121544837952,    D_loss:1.3884308735529582\n",
      "Epoch:1,   G_loss:0.6474071741104126,    D_loss:1.3934195339679718\n",
      "Epoch:1,   G_loss:0.6496160387992859,    D_loss:1.3977505683898925\n",
      "Epoch:1,   G_loss:0.6534068286418915,    D_loss:1.4004085461298625\n",
      "Epoch:1,   G_loss:0.6584780216217041,    D_loss:1.4017420836857386\n",
      "Epoch:1,   G_loss:0.6645385473966599,    D_loss:1.4015713334083557\n",
      "Epoch:1,   G_loss:0.6714313957426283,    D_loss:1.4004259639316134\n",
      "Epoch:1,   G_loss:0.6788182616233825,    D_loss:1.3983630895614625\n",
      "Epoch:1,   G_loss:0.6863949353044684,    D_loss:1.3959266164086082\n",
      "Epoch:1,   G_loss:0.6939402719338735,    D_loss:1.3931944767634075\n",
      "Epoch:1,   G_loss:0.7014826444479135,    D_loss:1.3906580668229322\n",
      "Epoch:1,   G_loss:0.7090623421328408,    D_loss:1.388281720025199\n",
      "Epoch:1,   G_loss:0.7167040745417277,    D_loss:1.3859773317972819\n",
      "Epoch:1,   G_loss:0.7242472469806671,    D_loss:1.384150467813015\n",
      "Epoch:1,   G_loss:0.7311983494197621,    D_loss:1.3825911844477934\n",
      "Epoch:1,   G_loss:0.7373413443565369,    D_loss:1.381238321463267\n",
      "Epoch:1,   G_loss:0.7423310624925714,    D_loss:1.3803673731653314\n",
      "Epoch:1,   G_loss:0.7462876826524735,    D_loss:1.3792733907699586\n",
      "Epoch:1,   G_loss:0.7495048102878389,    D_loss:1.3783171290443057\n",
      "Epoch:1,   G_loss:0.7519479691982269,    D_loss:1.377692005851052\n",
      "Epoch:1,   G_loss:0.7541542286458223,    D_loss:1.3769943921462349\n",
      "Epoch:1,   G_loss:0.7562055016557375,    D_loss:1.3764778077602386\n",
      "Epoch:1,   G_loss:0.7583828592300415,    D_loss:1.37584312915802\n",
      "Epoch:1,   G_loss:0.7608179610509139,    D_loss:1.3752831449875464\n",
      "Epoch:1,   G_loss:0.763266611982275,    D_loss:1.3748292878822044\n",
      "Epoch:1,   G_loss:0.7653795203992299,    D_loss:1.3743757052080972\n",
      "Epoch:1,   G_loss:0.7670934015306933,    D_loss:1.3737562072688136\n",
      "Epoch:1,   G_loss:0.7681620121002197,    D_loss:1.3732696572939556\n",
      "Epoch:1,   G_loss:0.7685110684364073,    D_loss:1.3729039661345943\n",
      "Epoch:1,   G_loss:0.7683943845331669,    D_loss:1.3726812452077866\n",
      "Epoch:1,   G_loss:0.7686164072065642,    D_loss:1.3725954908313174\n",
      "Epoch:1,   G_loss:0.7694502052138833,    D_loss:1.3721516447908737\n",
      "Epoch:1,   G_loss:0.7704268847193037,    D_loss:1.3716005495616368\n",
      "Epoch:1,   G_loss:0.7708324458864,    D_loss:1.3711166282494862\n",
      "Epoch:1,   G_loss:0.7712294749311499,    D_loss:1.3706411123275757\n",
      "Epoch:1,   G_loss:0.7719609423687583,    D_loss:1.3702547079638432\n",
      "Epoch:1,   G_loss:0.7727559071320754,    D_loss:1.3698707757852016\n",
      "Epoch:1,   G_loss:0.7729466497898102,    D_loss:1.3697303026914596\n",
      "Epoch:1,   G_loss:0.7730406362835954,    D_loss:1.3697156121091145\n"
     ]
    },
    {
     "ename": "KeyboardInterrupt",
     "evalue": "",
     "output_type": "error",
     "traceback": [
      "\u001b[1;31m---------------------------------------------------------------------------\u001b[0m",
      "\u001b[1;31mKeyboardInterrupt\u001b[0m                         Traceback (most recent call last)",
      "\u001b[1;32m<ipython-input-39-a0ceec400cf7>\u001b[0m in \u001b[0;36m<module>\u001b[1;34m()\u001b[0m\n\u001b[0;32m     37\u001b[0m \u001b[1;33m\u001b[0m\u001b[0m\n\u001b[0;32m     38\u001b[0m     \u001b[0moptim_gen\u001b[0m\u001b[1;33m.\u001b[0m\u001b[0mzero_grad\u001b[0m\u001b[1;33m(\u001b[0m\u001b[1;33m)\u001b[0m\u001b[1;33m\u001b[0m\u001b[1;33m\u001b[0m\u001b[0m\n\u001b[1;32m---> 39\u001b[1;33m     \u001b[0mG_loss\u001b[0m\u001b[1;33m.\u001b[0m\u001b[0mbackward\u001b[0m\u001b[1;33m(\u001b[0m\u001b[1;33m)\u001b[0m\u001b[1;33m\u001b[0m\u001b[1;33m\u001b[0m\u001b[0m\n\u001b[0m\u001b[0;32m     40\u001b[0m     \u001b[0moptim_gen\u001b[0m\u001b[1;33m.\u001b[0m\u001b[0mstep\u001b[0m\u001b[1;33m(\u001b[0m\u001b[1;33m)\u001b[0m\u001b[1;33m\u001b[0m\u001b[1;33m\u001b[0m\u001b[0m\n\u001b[0;32m     41\u001b[0m \u001b[1;33m\u001b[0m\u001b[0m\n",
      "\u001b[1;32mE:\\conda\\lib\\site-packages\\torch\\tensor.py\u001b[0m in \u001b[0;36mbackward\u001b[1;34m(self, gradient, retain_graph, create_graph)\u001b[0m\n\u001b[0;32m    105\u001b[0m                 \u001b[0mproducts\u001b[0m\u001b[1;33m.\u001b[0m \u001b[0mDefaults\u001b[0m \u001b[0mto\u001b[0m\u001b[0;31m \u001b[0m\u001b[0;31m`\u001b[0m\u001b[0;31m`\u001b[0m\u001b[1;32mFalse\u001b[0m\u001b[0;31m`\u001b[0m\u001b[0;31m`\u001b[0m\u001b[1;33m.\u001b[0m\u001b[1;33m\u001b[0m\u001b[1;33m\u001b[0m\u001b[0m\n\u001b[0;32m    106\u001b[0m         \"\"\"\n\u001b[1;32m--> 107\u001b[1;33m         \u001b[0mtorch\u001b[0m\u001b[1;33m.\u001b[0m\u001b[0mautograd\u001b[0m\u001b[1;33m.\u001b[0m\u001b[0mbackward\u001b[0m\u001b[1;33m(\u001b[0m\u001b[0mself\u001b[0m\u001b[1;33m,\u001b[0m \u001b[0mgradient\u001b[0m\u001b[1;33m,\u001b[0m \u001b[0mretain_graph\u001b[0m\u001b[1;33m,\u001b[0m \u001b[0mcreate_graph\u001b[0m\u001b[1;33m)\u001b[0m\u001b[1;33m\u001b[0m\u001b[1;33m\u001b[0m\u001b[0m\n\u001b[0m\u001b[0;32m    108\u001b[0m \u001b[1;33m\u001b[0m\u001b[0m\n\u001b[0;32m    109\u001b[0m     \u001b[1;32mdef\u001b[0m \u001b[0mregister_hook\u001b[0m\u001b[1;33m(\u001b[0m\u001b[0mself\u001b[0m\u001b[1;33m,\u001b[0m \u001b[0mhook\u001b[0m\u001b[1;33m)\u001b[0m\u001b[1;33m:\u001b[0m\u001b[1;33m\u001b[0m\u001b[1;33m\u001b[0m\u001b[0m\n",
      "\u001b[1;32mE:\\conda\\lib\\site-packages\\torch\\autograd\\__init__.py\u001b[0m in \u001b[0;36mbackward\u001b[1;34m(tensors, grad_tensors, retain_graph, create_graph, grad_variables)\u001b[0m\n\u001b[0;32m     91\u001b[0m     Variable._execution_engine.run_backward(\n\u001b[0;32m     92\u001b[0m         \u001b[0mtensors\u001b[0m\u001b[1;33m,\u001b[0m \u001b[0mgrad_tensors\u001b[0m\u001b[1;33m,\u001b[0m \u001b[0mretain_graph\u001b[0m\u001b[1;33m,\u001b[0m \u001b[0mcreate_graph\u001b[0m\u001b[1;33m,\u001b[0m\u001b[1;33m\u001b[0m\u001b[1;33m\u001b[0m\u001b[0m\n\u001b[1;32m---> 93\u001b[1;33m         allow_unreachable=True)  # allow_unreachable flag\n\u001b[0m\u001b[0;32m     94\u001b[0m \u001b[1;33m\u001b[0m\u001b[0m\n\u001b[0;32m     95\u001b[0m \u001b[1;33m\u001b[0m\u001b[0m\n",
      "\u001b[1;31mKeyboardInterrupt\u001b[0m: "
     ]
    }
   ],
   "source": [
    "G_loss_run = 0.0\n",
    "D_loss_run = 0.0\n",
    "gen = gen.to(device)\n",
    "dis = dis.to(device)\n",
    "\n",
    "for epoch in range(30):\n",
    "    for step,(x_data,y_data) in enumerate(train_dataloader):\n",
    "        x_data = x_data.to(device)\n",
    "        size = x_data.size()\n",
    "        # noise \n",
    "        z = torch.randn(size[0],100)\n",
    "\n",
    "        \"\"\"\n",
    "        Confused ???\n",
    "        \"\"\"\n",
    "        ones_label = torch.ones(size[0],1)\n",
    "        zeros_label = torch.zeros(size[0],1)\n",
    "\n",
    "        \"\"\"\n",
    "        第一部分 更新判别网络\n",
    "        \"\"\"\n",
    "\n",
    "        D_real = dis(x_data)\n",
    "        D_fake = dis(gen(z))\n",
    "        D_real_loss = F.binary_cross_entropy(D_real,ones_label)\n",
    "        D_fake_loss = F.binary_cross_entropy(D_fake,zeros_label)\n",
    "\n",
    "        D_loss = D_real_loss + D_fake_loss    \n",
    "        optim_dis.zero_grad()\n",
    "        D_loss.backward()\n",
    "        optim_dis.step()\n",
    "\n",
    "        \"\"\"\n",
    "        第二部分 更新生成网络\n",
    "        生成网络的目的就在与不断调整网络结构使得生成出来的图片与真实图片不断接近\n",
    "        \"\"\"\n",
    "        z = torch.randn(size[0],Z_dim)\n",
    "        D_fake = dis(gen(z))\n",
    "        G_loss = F.binary_cross_entropy(D_fake,ones_label)\n",
    "\n",
    "        optim_gen.zero_grad()\n",
    "        G_loss.backward()\n",
    "        optim_gen.step()\n",
    "\n",
    "        G_loss_run += G_loss.item()\n",
    "        D_loss_run += D_loss.item()\n",
    "\n",
    "        print('Epoch:{},   G_loss:{},    D_loss:{}'.format(1, G_loss_run/(step+1), D_loss_run/(step+1)))\n"
   ]
  },
  {
   "cell_type": "code",
   "execution_count": 12,
   "metadata": {},
   "outputs": [
    {
     "ename": "TypeError",
     "evalue": "Invalid dimensions for image data",
     "output_type": "error",
     "traceback": [
      "\u001b[1;31m---------------------------------------------------------------------------\u001b[0m",
      "\u001b[1;31mTypeError\u001b[0m                                 Traceback (most recent call last)",
      "\u001b[1;32m<ipython-input-12-e125664fe187>\u001b[0m in \u001b[0;36m<module>\u001b[1;34m()\u001b[0m\n\u001b[0;32m      3\u001b[0m \u001b[0mimg\u001b[0m \u001b[1;33m=\u001b[0m \u001b[0mimg\u001b[0m\u001b[1;33m.\u001b[0m\u001b[0mdetach\u001b[0m\u001b[1;33m(\u001b[0m\u001b[1;33m)\u001b[0m\u001b[1;33m.\u001b[0m\u001b[0mnumpy\u001b[0m\u001b[1;33m(\u001b[0m\u001b[1;33m)\u001b[0m \u001b[1;31m# FloatTensor转为ndarray\u001b[0m\u001b[1;33m\u001b[0m\u001b[1;33m\u001b[0m\u001b[0m\n\u001b[0;32m      4\u001b[0m \u001b[0mimg\u001b[0m \u001b[1;33m=\u001b[0m \u001b[0mnp\u001b[0m\u001b[1;33m.\u001b[0m\u001b[0mtranspose\u001b[0m\u001b[1;33m(\u001b[0m\u001b[0mimg\u001b[0m\u001b[1;33m,\u001b[0m \u001b[1;33m(\u001b[0m\u001b[1;36m1\u001b[0m\u001b[1;33m,\u001b[0m\u001b[1;36m2\u001b[0m\u001b[1;33m,\u001b[0m\u001b[1;36m0\u001b[0m\u001b[1;33m)\u001b[0m\u001b[1;33m)\u001b[0m \u001b[1;31m# 把channel那一维放到最后\u001b[0m\u001b[1;33m\u001b[0m\u001b[1;33m\u001b[0m\u001b[0m\n\u001b[1;32m----> 5\u001b[1;33m \u001b[0mplt\u001b[0m\u001b[1;33m.\u001b[0m\u001b[0mimshow\u001b[0m\u001b[1;33m(\u001b[0m\u001b[0mimg\u001b[0m\u001b[1;33m)\u001b[0m\u001b[1;33m\u001b[0m\u001b[1;33m\u001b[0m\u001b[0m\n\u001b[0m\u001b[0;32m      6\u001b[0m \u001b[0mplt\u001b[0m\u001b[1;33m.\u001b[0m\u001b[0mshow\u001b[0m\u001b[1;33m(\u001b[0m\u001b[1;33m)\u001b[0m\u001b[1;33m\u001b[0m\u001b[1;33m\u001b[0m\u001b[0m\n",
      "\u001b[1;32mE:\\conda\\lib\\site-packages\\matplotlib\\pyplot.py\u001b[0m in \u001b[0;36mimshow\u001b[1;34m(X, cmap, norm, aspect, interpolation, alpha, vmin, vmax, origin, extent, shape, filternorm, filterrad, imlim, resample, url, hold, data, **kwargs)\u001b[0m\n\u001b[0;32m   3203\u001b[0m                         \u001b[0mfilternorm\u001b[0m\u001b[1;33m=\u001b[0m\u001b[0mfilternorm\u001b[0m\u001b[1;33m,\u001b[0m \u001b[0mfilterrad\u001b[0m\u001b[1;33m=\u001b[0m\u001b[0mfilterrad\u001b[0m\u001b[1;33m,\u001b[0m\u001b[1;33m\u001b[0m\u001b[1;33m\u001b[0m\u001b[0m\n\u001b[0;32m   3204\u001b[0m                         \u001b[0mimlim\u001b[0m\u001b[1;33m=\u001b[0m\u001b[0mimlim\u001b[0m\u001b[1;33m,\u001b[0m \u001b[0mresample\u001b[0m\u001b[1;33m=\u001b[0m\u001b[0mresample\u001b[0m\u001b[1;33m,\u001b[0m \u001b[0murl\u001b[0m\u001b[1;33m=\u001b[0m\u001b[0murl\u001b[0m\u001b[1;33m,\u001b[0m \u001b[0mdata\u001b[0m\u001b[1;33m=\u001b[0m\u001b[0mdata\u001b[0m\u001b[1;33m,\u001b[0m\u001b[1;33m\u001b[0m\u001b[1;33m\u001b[0m\u001b[0m\n\u001b[1;32m-> 3205\u001b[1;33m                         **kwargs)\n\u001b[0m\u001b[0;32m   3206\u001b[0m     \u001b[1;32mfinally\u001b[0m\u001b[1;33m:\u001b[0m\u001b[1;33m\u001b[0m\u001b[1;33m\u001b[0m\u001b[0m\n\u001b[0;32m   3207\u001b[0m         \u001b[0max\u001b[0m\u001b[1;33m.\u001b[0m\u001b[0m_hold\u001b[0m \u001b[1;33m=\u001b[0m \u001b[0mwashold\u001b[0m\u001b[1;33m\u001b[0m\u001b[1;33m\u001b[0m\u001b[0m\n",
      "\u001b[1;32mE:\\conda\\lib\\site-packages\\matplotlib\\__init__.py\u001b[0m in \u001b[0;36minner\u001b[1;34m(ax, *args, **kwargs)\u001b[0m\n\u001b[0;32m   1853\u001b[0m                         \u001b[1;34m\"the Matplotlib list!)\"\u001b[0m \u001b[1;33m%\u001b[0m \u001b[1;33m(\u001b[0m\u001b[0mlabel_namer\u001b[0m\u001b[1;33m,\u001b[0m \u001b[0mfunc\u001b[0m\u001b[1;33m.\u001b[0m\u001b[0m__name__\u001b[0m\u001b[1;33m)\u001b[0m\u001b[1;33m,\u001b[0m\u001b[1;33m\u001b[0m\u001b[1;33m\u001b[0m\u001b[0m\n\u001b[0;32m   1854\u001b[0m                         RuntimeWarning, stacklevel=2)\n\u001b[1;32m-> 1855\u001b[1;33m             \u001b[1;32mreturn\u001b[0m \u001b[0mfunc\u001b[0m\u001b[1;33m(\u001b[0m\u001b[0max\u001b[0m\u001b[1;33m,\u001b[0m \u001b[1;33m*\u001b[0m\u001b[0margs\u001b[0m\u001b[1;33m,\u001b[0m \u001b[1;33m**\u001b[0m\u001b[0mkwargs\u001b[0m\u001b[1;33m)\u001b[0m\u001b[1;33m\u001b[0m\u001b[1;33m\u001b[0m\u001b[0m\n\u001b[0m\u001b[0;32m   1856\u001b[0m \u001b[1;33m\u001b[0m\u001b[0m\n\u001b[0;32m   1857\u001b[0m         inner.__doc__ = _add_data_doc(inner.__doc__,\n",
      "\u001b[1;32mE:\\conda\\lib\\site-packages\\matplotlib\\axes\\_axes.py\u001b[0m in \u001b[0;36mimshow\u001b[1;34m(self, X, cmap, norm, aspect, interpolation, alpha, vmin, vmax, origin, extent, shape, filternorm, filterrad, imlim, resample, url, **kwargs)\u001b[0m\n\u001b[0;32m   5485\u001b[0m                               resample=resample, **kwargs)\n\u001b[0;32m   5486\u001b[0m \u001b[1;33m\u001b[0m\u001b[0m\n\u001b[1;32m-> 5487\u001b[1;33m         \u001b[0mim\u001b[0m\u001b[1;33m.\u001b[0m\u001b[0mset_data\u001b[0m\u001b[1;33m(\u001b[0m\u001b[0mX\u001b[0m\u001b[1;33m)\u001b[0m\u001b[1;33m\u001b[0m\u001b[1;33m\u001b[0m\u001b[0m\n\u001b[0m\u001b[0;32m   5488\u001b[0m         \u001b[0mim\u001b[0m\u001b[1;33m.\u001b[0m\u001b[0mset_alpha\u001b[0m\u001b[1;33m(\u001b[0m\u001b[0malpha\u001b[0m\u001b[1;33m)\u001b[0m\u001b[1;33m\u001b[0m\u001b[1;33m\u001b[0m\u001b[0m\n\u001b[0;32m   5489\u001b[0m         \u001b[1;32mif\u001b[0m \u001b[0mim\u001b[0m\u001b[1;33m.\u001b[0m\u001b[0mget_clip_path\u001b[0m\u001b[1;33m(\u001b[0m\u001b[1;33m)\u001b[0m \u001b[1;32mis\u001b[0m \u001b[1;32mNone\u001b[0m\u001b[1;33m:\u001b[0m\u001b[1;33m\u001b[0m\u001b[1;33m\u001b[0m\u001b[0m\n",
      "\u001b[1;32mE:\\conda\\lib\\site-packages\\matplotlib\\image.py\u001b[0m in \u001b[0;36mset_data\u001b[1;34m(self, A)\u001b[0m\n\u001b[0;32m    651\u001b[0m         if not (self._A.ndim == 2\n\u001b[0;32m    652\u001b[0m                 or self._A.ndim == 3 and self._A.shape[-1] in [3, 4]):\n\u001b[1;32m--> 653\u001b[1;33m             \u001b[1;32mraise\u001b[0m \u001b[0mTypeError\u001b[0m\u001b[1;33m(\u001b[0m\u001b[1;34m\"Invalid dimensions for image data\"\u001b[0m\u001b[1;33m)\u001b[0m\u001b[1;33m\u001b[0m\u001b[1;33m\u001b[0m\u001b[0m\n\u001b[0m\u001b[0;32m    654\u001b[0m \u001b[1;33m\u001b[0m\u001b[0m\n\u001b[0;32m    655\u001b[0m         \u001b[1;32mif\u001b[0m \u001b[0mself\u001b[0m\u001b[1;33m.\u001b[0m\u001b[0m_A\u001b[0m\u001b[1;33m.\u001b[0m\u001b[0mndim\u001b[0m \u001b[1;33m==\u001b[0m \u001b[1;36m3\u001b[0m\u001b[1;33m:\u001b[0m\u001b[1;33m\u001b[0m\u001b[1;33m\u001b[0m\u001b[0m\n",
      "\u001b[1;31mTypeError\u001b[0m: Invalid dimensions for image data"
     ]
    }
   ],
   "source": [
    "fig = gen(torch.randn(1,100))\n",
    "img = fig[0] # plt.imshow()只能接受3-D Tensor，所以也要用image[0]消去batch那一维\n",
    "img = img.detach().numpy() # FloatTensor转为ndarray\n",
    "img = np.transpose(img, (1,2,0)) # 把channel那一维放到最后\n",
    "plt.imshow(img)\n",
    "plt.show()"
   ]
  },
  {
   "cell_type": "code",
   "execution_count": null,
   "metadata": {
    "collapsed": true
   },
   "outputs": [],
   "source": []
  }
 ],
 "metadata": {
  "kernelspec": {
   "display_name": "Python 3",
   "language": "python",
   "name": "python3"
  },
  "language_info": {
   "codemirror_mode": {
    "name": "ipython",
    "version": 3
   },
   "file_extension": ".py",
   "mimetype": "text/x-python",
   "name": "python",
   "nbconvert_exporter": "python",
   "pygments_lexer": "ipython3",
   "version": "3.6.8"
  }
 },
 "nbformat": 4,
 "nbformat_minor": 2
}
