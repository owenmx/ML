{
 "cells": [
  {
   "cell_type": "code",
   "execution_count": 3,
   "metadata": {
    "collapsed": true
   },
   "outputs": [],
   "source": [
    "import torch\n",
    "import torch.utils.data as data\n",
    "import torch.nn as nn\n",
    "import torch.nn.functional as F\n",
    "import numpy as np\n",
    "from torchvision import datasets,transforms\n",
    "import matplotlib.pyplot as plt"
   ]
  },
  {
   "cell_type": "code",
   "execution_count": 4,
   "metadata": {
    "collapsed": true
   },
   "outputs": [],
   "source": [
    "BATCH_SIZE = 128\n",
    "EPOCH = 10"
   ]
  },
  {
   "cell_type": "code",
   "execution_count": 5,
   "metadata": {
    "collapsed": true
   },
   "outputs": [],
   "source": [
    "train_loader = data.DataLoader(\n",
    "    dataset=datasets.MNIST(root='./data',train=True,transform=transforms.ToTensor(),download=False),batch_size=64,shuffle=True)\n",
    "test_loader = data.DataLoader(\n",
    "    dataset=datasets.MNIST(root='./data',train=False,transform=transforms.ToTensor(),download=False),batch_size=64,shuffle=True)"
   ]
  },
  {
   "cell_type": "code",
   "execution_count": 6,
   "metadata": {
    "collapsed": true
   },
   "outputs": [],
   "source": [
    "class CNN(nn.Module):\n",
    "    def __init__(self):\n",
    "        super(CNN,self).__init__()\n",
    "        \"\"\"\n",
    "        输入 28 * 28\n",
    "        第一卷积（ 28 - 5 + 2 * 0）/ 1 + 1 = 24\n",
    "        第一池化 (24 - 2) / 2 + 1 = 12\n",
    "        \n",
    "        第二卷积（12 - 3 ）/ 1 + 1 = 10\n",
    "        第二池化 (10 - 2 )/ 2 + 1 = 5\n",
    "        \n",
    "        \"\"\"\n",
    "        self.conv1 = nn.Conv2d(1,10,kernel_size=5)\n",
    "        self.conv2 = nn.Conv2d(10,20,kernel_size=3)\n",
    "        \n",
    "        self.pool1 = nn.MaxPool2d(kernel_size=2,stride=2)\n",
    "        \n",
    "        self.fc1 = nn.Linear(20*10*10,500)\n",
    "        self.fc2 = nn.Linear(500,10)\n",
    "    \n",
    "    \n",
    "    def forward(self,x):\n",
    "        in_size = x.size(0)\n",
    "        out = self.pool1(F.relu(self.conv1(x)))\n",
    "        out = F.relu(self.conv2(out))\n",
    "        out = out.view(in_size,-1)\n",
    "        out = self.fc1(out)\n",
    "        out = torch.relu(out)\n",
    "        out = self.fc2(out)\n",
    "        out = F.softmax(out)\n",
    "        return out"
   ]
  },
  {
   "cell_type": "code",
   "execution_count": 7,
   "metadata": {
    "collapsed": true
   },
   "outputs": [],
   "source": [
    "net = CNN()"
   ]
  },
  {
   "cell_type": "code",
   "execution_count": 8,
   "metadata": {
    "collapsed": true
   },
   "outputs": [],
   "source": [
    "criterion = nn.CrossEntropyLoss()\n"
   ]
  },
  {
   "cell_type": "code",
   "execution_count": 9,
   "metadata": {
    "collapsed": true
   },
   "outputs": [],
   "source": [
    "def test():\n",
    "    net.eval()\n",
    "    with torch.no_grad():\n",
    "        result = []\n",
    "        for data,target in test_loader:\n",
    "            output = net(data)\n",
    "            pre = output.max(1, keepdim=True)[1].view(-1)\n",
    "            result.extend(pre.numpy() == target.numpy())\n",
    "        print(\"Accuracy : {}\".format(sum(result) / len(result)))"
   ]
  },
  {
   "cell_type": "code",
   "execution_count": 13,
   "metadata": {},
   "outputs": [
    {
     "name": "stderr",
     "output_type": "stream",
     "text": [
      "E:\\conda\\lib\\site-packages\\ipykernel_launcher.py:30: UserWarning: Implicit dimension choice for softmax has been deprecated. Change the call to include dim=X as an argument.\n"
     ]
    },
    {
     "name": "stdout",
     "output_type": "stream",
     "text": [
      "1.5255746841430664\n",
      "1.4995986223220825\n",
      "1.5012788772583008\n",
      "1.4976309537887573\n",
      "1.5223437547683716\n",
      "1.4971442222595215\n",
      "1.482719898223877\n",
      "1.504406213760376\n",
      "1.4651366472244263\n",
      "1.4800519943237305\n",
      "1.461431860923767\n",
      "1.48678457736969\n",
      "1.5328062772750854\n",
      "1.505269169807434\n",
      "1.4923551082611084\n",
      "1.498039722442627\n",
      "1.48186194896698\n",
      "1.4764200448989868\n",
      "1.528261661529541\n",
      "1.5030020475387573\n",
      "1.4924015998840332\n",
      "1.5091300010681152\n",
      "1.4756531715393066\n",
      "1.4611510038375854\n",
      "1.509375810623169\n",
      "1.461151123046875\n",
      "1.4896223545074463\n",
      "1.5307163000106812\n",
      "1.4739196300506592\n",
      "1.4627962112426758\n",
      "1.4790188074111938\n",
      "1.5233955383300781\n",
      "1.4798638820648193\n",
      "1.476784586906433\n",
      "1.476775884628296\n",
      "1.469209909439087\n",
      "1.461150884628296\n",
      "1.4614713191986084\n",
      "1.5233982801437378\n",
      "1.4767764806747437\n",
      "1.4767705202102661\n",
      "1.5043736696243286\n",
      "1.4767696857452393\n",
      "1.4789862632751465\n",
      "1.49239182472229\n",
      "1.5083198547363281\n",
      "1.4924367666244507\n",
      "1.4835090637207031\n",
      "1.5003345012664795\n",
      "1.5077540874481201\n"
     ]
    }
   ],
   "source": [
    "for e in range(5):\n",
    "    net.train()\n",
    "    for step,(x_train,y_train) in enumerate(train_loader):\n",
    "        optim.zero_grad()\n",
    "        optim = torch.optim.Adam(net.parameters())\n",
    "        \n",
    "        output = net(x_train)\n",
    "        loss = criterion(output,y_train)\n",
    "        \n",
    "        loss.backward()\n",
    "        optim.step()\n",
    "        \n",
    "        if step % 100 == 0:\n",
    "            print(loss.item())\n",
    "        "
   ]
  },
  {
   "cell_type": "code",
   "execution_count": null,
   "metadata": {
    "collapsed": true
   },
   "outputs": [],
   "source": []
  }
 ],
 "metadata": {
  "kernelspec": {
   "display_name": "Python 3",
   "language": "python",
   "name": "python3"
  },
  "language_info": {
   "codemirror_mode": {
    "name": "ipython",
    "version": 3
   },
   "file_extension": ".py",
   "mimetype": "text/x-python",
   "name": "python",
   "nbconvert_exporter": "python",
   "pygments_lexer": "ipython3",
   "version": "3.6.8"
  }
 },
 "nbformat": 4,
 "nbformat_minor": 2
}
