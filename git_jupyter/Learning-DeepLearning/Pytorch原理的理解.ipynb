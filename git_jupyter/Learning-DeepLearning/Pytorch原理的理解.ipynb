{
 "cells": [
  {
   "cell_type": "markdown",
   "metadata": {},
   "source": [
    "## 反向传播的理解\n",
    "1. 前向传播追踪每一个输入如何影响每一个节点，对每一个节点进行$\\frac{\\partial}{\\partial{X}}$\n",
    "    + 前向传播包括两个过程\n",
    "        1. 计算输出，直接传播\n",
    "        2. 计算局部梯度，加速反向传播\n",
    "2. 反向传播追踪每一个节点如何影响输出，对每一个节点进行$\\frac{\\partial{Z}}{\\partial}$"
   ]
  },
  {
   "cell_type": "code",
   "execution_count": null,
   "metadata": {
    "collapsed": true
   },
   "outputs": [],
   "source": [
    "import torch\n",
    "import torch.nn as nn"
   ]
  }
 ],
 "metadata": {
  "kernelspec": {
   "display_name": "Python 3",
   "language": "python",
   "name": "python3"
  },
  "language_info": {
   "codemirror_mode": {
    "name": "ipython",
    "version": 3
   },
   "file_extension": ".py",
   "mimetype": "text/x-python",
   "name": "python",
   "nbconvert_exporter": "python",
   "pygments_lexer": "ipython3",
   "version": "3.6.8"
  }
 },
 "nbformat": 4,
 "nbformat_minor": 2
}
