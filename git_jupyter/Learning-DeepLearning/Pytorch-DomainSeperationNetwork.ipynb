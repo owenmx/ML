{
 "cells": [
  {
   "cell_type": "code",
   "execution_count": 2,
   "metadata": {
    "collapsed": true
   },
   "outputs": [],
   "source": [
    "import torch\n",
    "import torch.nn as nn\n",
    "import torch.nn.functional as F\n",
    "import torch.utils.data as data\n",
    "\n",
    "import torchvision\n",
    "from torchvision import transforms,datasets,models"
   ]
  },
  {
   "cell_type": "code",
   "execution_count": 15,
   "metadata": {},
   "outputs": [],
   "source": [
    "class DSN(nn.Module):\n",
    "    def __init__(self):\n",
    "        super(DSN,self).__init__()\n",
    "        \"\"\"\n",
    "        Private Target Encoder\n",
    "        \"\"\"\n",
    "        self.pte = nn.Sequential(\n",
    "            # 卷积 - Relu - 池化\n",
    "            nn.Conv2d(3,32,kernel_size=5,padding=2),\n",
    "            nn.ReLU(),\n",
    "            nn.MaxPool2d(kernel_size=2,stride=2),\n",
    "            \n",
    "            # 卷积 - Relu - 池化\n",
    "            nn.Conv2d(32,64,kernel_size=5,padding=2),\n",
    "            nn.ReLU(),\n",
    "            nn.MaxPool2d(kernel_size=2,stride=2),\n",
    "            \n",
    "            # 全连接 Relu (有必要用全连接层，直接view as不就可以吗)\n",
    "            nn.Linear(7*7*64,100),\n",
    "            nn.ReLU()\n",
    "        )\n",
    "        \n",
    "        \"\"\"\n",
    "        Private Source Encoder\n",
    "        \"\"\"\n",
    "        self.pse = nn.Sequential(\n",
    "            # 卷积 - Relu - 池化\n",
    "            nn.Conv2d(3,32,kernel_size=5,padding=2),\n",
    "            nn.ReLU(),\n",
    "            nn.MaxPool2d(kernel_size=2,stride=2),\n",
    "            \n",
    "            # 卷积 - Relu - 池化\n",
    "            nn.Conv2d(32,64,kernel_size=5,padding=2),\n",
    "            nn.ReLU(),\n",
    "            nn.MaxPool2d(kernel_size=2,stride=2),\n",
    "            \n",
    "            # 全连接 Relu (有必要用全连接层，直接view as不就可以吗)\n",
    "            nn.Linear(7*7*64,100),\n",
    "            nn.ReLU()\n",
    "        )\n",
    "        \n",
    "        \"\"\"\n",
    "        Share Encoder\n",
    "        \"\"\"\n",
    "        self.se = nn.Sequential(\n",
    "            # 卷积 - Relu - 池化\n",
    "            nn.Conv2d(3,32,kernel_size=5,padding=2),\n",
    "            nn.ReLU(),\n",
    "            nn.MaxPool2d(kernel_size=2,stride=2),\n",
    "            \n",
    "            # 卷积 - Relu - 池化\n",
    "            nn.Conv2d(32,64,kernel_size=5,padding=2),\n",
    "            nn.ReLU(),\n",
    "            nn.MaxPool2d(kernel_size=2,stride=2),\n",
    "            \n",
    "            # 全连接 Relu (有必要用全连接层，直接view as不就可以吗)\n",
    "            nn.Linear(7*7*64,100),\n",
    "            nn.ReLU()\n",
    "        )\n",
    "        \n",
    "        \"\"\"\n",
    "        Share Decoder\n",
    "        需不需要采用transposeConv去反卷积，还是说Auto-Encoder采用的是不同的方法\n",
    "        \"\"\"\n",
    "        \n",
    "        \"\"\"\n",
    "        Classifer for multi labels\n",
    "        \"\"\"\n",
    "        self.gl = nn.Sequential(\n",
    "            nn.Linear(100,100),\n",
    "            nn.ReLU(),\n",
    "            \n",
    "            nn.Linear(100,10),\n",
    "            nn.ReLU()\n",
    "        )\n",
    "        \n",
    "        \"\"\"\n",
    "        Classifer for two domains\n",
    "        \"\"\"\n",
    "        self.gd = nn.Sequential(\n",
    "            nn.Linear(100,100),\n",
    "            nn.ReLU(),\n",
    "            \n",
    "            nn.Linear(100,2),\n",
    "            nn.ReLU()\n",
    "        )\n",
    "    \n",
    "    def forward(self,x):\n",
    "        pass       "
   ]
  },
  {
   "cell_type": "code",
   "execution_count": null,
   "metadata": {
    "collapsed": true
   },
   "outputs": [],
   "source": []
  },
  {
   "cell_type": "code",
   "execution_count": null,
   "metadata": {
    "collapsed": true
   },
   "outputs": [],
   "source": []
  },
  {
   "cell_type": "code",
   "execution_count": null,
   "metadata": {
    "collapsed": true
   },
   "outputs": [],
   "source": []
  },
  {
   "cell_type": "code",
   "execution_count": null,
   "metadata": {
    "collapsed": true
   },
   "outputs": [],
   "source": []
  }
 ],
 "metadata": {
  "kernelspec": {
   "display_name": "Python 3",
   "language": "python",
   "name": "python3"
  },
  "language_info": {
   "codemirror_mode": {
    "name": "ipython",
    "version": 3
   },
   "file_extension": ".py",
   "mimetype": "text/x-python",
   "name": "python",
   "nbconvert_exporter": "python",
   "pygments_lexer": "ipython3",
   "version": "3.6.8"
  }
 },
 "nbformat": 4,
 "nbformat_minor": 2
}
